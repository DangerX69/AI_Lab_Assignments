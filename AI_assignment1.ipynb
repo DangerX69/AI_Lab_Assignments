{
 "cells": [
  {
   "cell_type": "code",
   "execution_count": null,
   "id": "5eb6069a-1d91-48ca-9b60-242c61a54a72",
   "metadata": {},
   "outputs": [],
   "source": [
    "#AI Lab Assignment\n",
    "#Lab 1\n",
    "#Submitted by: \n",
    "#Biswash Khanal\n",
    "#ACE077BCT034\n",
    "\n",
    "#assignment deadline: 1/30/2024\n",
    "#submission Date    : 1/21/2024"
   ]
  },
  {
   "cell_type": "code",
   "execution_count": 1,
   "id": "fca77652-44c8-4399-8ac8-c878bbc88ba7",
   "metadata": {},
   "outputs": [
    {
     "name": "stdin",
     "output_type": "stream",
     "text": [
      "Enter the Start of range: 0\n",
      "Enter the End of range  : 107\n"
     ]
    },
    {
     "name": "stdout",
     "output_type": "stream",
     "text": [
      "The prime numbers between 0 and 107 are: \n",
      "2 , 3 , 5 , 7 , 11 , 13 , 17 , 19 , 23 , 29 , 31 , 37 , 41 , 43 , 47 , 53 , 59 , 61 , 67 , 71 , 73 , 79 , 83 , 89 , 97 , 101 , 103 , 107   \n"
     ]
    }
   ],
   "source": [
    "#Write a program to find prime number with in a range using function.\n",
    "\n",
    "#defining a function displaying the prime numbers between a range min and max\n",
    "#min and max will be inclusive, so as to display results including min or max given if conditions true\n",
    "\n",
    "\n",
    "\n",
    "def give_prime_range(min, max):\n",
    "    for i in range(min, max+1, 1):  # for loop from min to max with step size 1, stored as i\n",
    "        count = 0                   # Reset count for each i\n",
    "        for j in range(2, i):\n",
    "            if (i % j == 0):\n",
    "                count = count + 1\n",
    "        if (count == 0 and i>1):    #prime numbers will have count value of 1, i>1 filters negative numbers, 0, and 1 from the result\n",
    "            print(i, ', ', end = '')\n",
    "            \n",
    "    print('\\b\\b', '  ', '\\b\\b')     #erases the last comma and space\n",
    "\n",
    "#End of Function\n",
    "\n",
    "user_in_min = int(input(\"Enter the Start of range:\"))\n",
    "user_in_max = int(input(\"Enter the End of range  :\"))\n",
    "print(f\"The prime numbers between {user_in_min} and {user_in_max} are: \")\n",
    "give_prime_range(user_in_min, user_in_max)"
   ]
  },
  {
   "cell_type": "code",
   "execution_count": 25,
   "id": "18349947-ba79-481c-8b78-4105b304c772",
   "metadata": {},
   "outputs": [
    {
     "name": "stdin",
     "output_type": "stream",
     "text": [
      "Enter the number you want to check:  12321\n"
     ]
    },
    {
     "name": "stdout",
     "output_type": "stream",
     "text": [
      "Your input:     12321\n",
      "It's reverse:   12321\n",
      "Your input is a palindrome number\n"
     ]
    }
   ],
   "source": [
    "#Write a program to check palindrome.\n",
    "\n",
    "#creating this program to check palindrome numbers only\n",
    "#get number of digits, store the reverse of given number in another variable, palindrome if original number == reversed number\n",
    "#very barebones approach\n",
    "\n",
    "user_in_number = int(input(\"Enter the number you want to check: \"))\n",
    "\n",
    "#function to give number of digits in a number\n",
    "def give_num_digits(number):\n",
    "    digits=0\n",
    "    while (number>0):\n",
    "        number = int(number/10)\n",
    "        digits = digits+1\n",
    "    return digits\n",
    "\n",
    "#function to return the reverse of given number\n",
    "def give_reverse_num(number):\n",
    "    reverse_number = 0\n",
    "    for i in range(0, give_num_digits(number)):\n",
    "        reverse_number = reverse_number *10 + number%10\n",
    "        number = int(number/10)\n",
    "        \n",
    "    return reverse_number\n",
    "\n",
    "#function to give the results\n",
    "def check_palindrome(number):\n",
    "    print('Your input:    ', number)\n",
    "    print(\"It's reverse:  \", give_reverse_num(number))\n",
    "    \n",
    "    print('Your input is a palindrome number') if (number == give_reverse_num(number)) else print('Your input is not a palindrome')\n",
    "                                                                                                  \n",
    "\n",
    "check_palindrome(user_in_number)"
   ]
  },
  {
   "cell_type": "code",
   "execution_count": 18,
   "id": "e7f2edd7-b693-4ae9-9f59-45cc99e4c836",
   "metadata": {},
   "outputs": [
    {
     "name": "stdin",
     "output_type": "stream",
     "text": [
      "Enter a number to generate Fibonacci sequence up to that number:  11\n"
     ]
    },
    {
     "name": "stdout",
     "output_type": "stream",
     "text": [
      "Fibonacci sequence up to 11th term: [0, 1, 1, 2, 3, 5, 8, 13, 21, 34, 55]\n"
     ]
    }
   ],
   "source": [
    "#Write a program to generate the Fibonacci sequence of a given number.\n",
    "\n",
    "#output needs to show the fibonacci sequence for number of terms = given number\n",
    "\n",
    "\n",
    "def generate_fibonacci(number):\n",
    "    fibonacci_sequence = []                      #using a list to store fibonacci sequence\n",
    "\n",
    "    if(number == 1):\n",
    "        fibonacci_sequence.append(0)             #first term is 0\n",
    "    elif(number == 2):\n",
    "        fibonacci_sequence.append(0)\n",
    "        fibonacci_sequence.append(1)              #second term is 1\n",
    "    else:\n",
    "        fibonacci_sequence.append(0)\n",
    "        fibonacci_sequence.append(1)\n",
    "        while len(fibonacci_sequence)< number:\n",
    "            next_term = fibonacci_sequence[-1] + fibonacci_sequence[-2]  #next terms are generated by adding last two items in list given by negative index\n",
    "            fibonacci_sequence.append(next_term)                         #list_name.append(x) appends x to the list\n",
    "\n",
    "    return fibonacci_sequence\n",
    "\n",
    "\n",
    "num = int(input(\"Enter a number to generate Fibonacci sequence up to that number: \"))\n",
    "result = generate_fibonacci(num)\n",
    "\n",
    "print(f\"Fibonacci sequence up to {num}th term: {result}\")\n",
    "    \n"
   ]
  },
  {
   "cell_type": "code",
   "execution_count": 2,
   "id": "f0045d0a-3d87-4ae4-aeaf-dd7b8119c0b2",
   "metadata": {},
   "outputs": [
    {
     "name": "stdout",
     "output_type": "stream",
     "text": [
      "Guess a number between 1 and 100!\n",
      "\n"
     ]
    },
    {
     "name": "stdin",
     "output_type": "stream",
     "text": [
      "\n",
      "Enter your guess:  40\n"
     ]
    },
    {
     "name": "stdout",
     "output_type": "stream",
     "text": [
      "You guessed 40 Guess Higher!\n"
     ]
    },
    {
     "name": "stdin",
     "output_type": "stream",
     "text": [
      "\n",
      "Enter your guess:  90\n"
     ]
    },
    {
     "name": "stdout",
     "output_type": "stream",
     "text": [
      "You guessed 90 Guess Lower!\n"
     ]
    },
    {
     "name": "stdin",
     "output_type": "stream",
     "text": [
      "\n",
      "Enter your guess:  70\n"
     ]
    },
    {
     "name": "stdout",
     "output_type": "stream",
     "text": [
      "You guessed 70 Guess Higher!\n"
     ]
    },
    {
     "name": "stdin",
     "output_type": "stream",
     "text": [
      "\n",
      "Enter your guess:  80\n"
     ]
    },
    {
     "name": "stdout",
     "output_type": "stream",
     "text": [
      "You guessed 80 Guess Lower!\n"
     ]
    },
    {
     "name": "stdin",
     "output_type": "stream",
     "text": [
      "\n",
      "Enter your guess:  75\n"
     ]
    },
    {
     "name": "stdout",
     "output_type": "stream",
     "text": [
      "You guessed 75 Guess Lower!\n"
     ]
    },
    {
     "name": "stdin",
     "output_type": "stream",
     "text": [
      "\n",
      "Enter your guess:  73\n"
     ]
    },
    {
     "name": "stdout",
     "output_type": "stream",
     "text": [
      "You guessed 73 Guess Lower!\n"
     ]
    },
    {
     "name": "stdin",
     "output_type": "stream",
     "text": [
      "\n",
      "Enter your guess:  72\n"
     ]
    },
    {
     "name": "stdout",
     "output_type": "stream",
     "text": [
      "Congratulations!!! You guessed correct. The number was 72\n"
     ]
    }
   ],
   "source": [
    "# Create a number guessing game.\n",
    "# Where you have to generate a random number in between 1 to 100 and user have to prompt a number for guess.\n",
    "# if its high or low number let the user know and guide them through the process to guess correct number.\n",
    "\n",
    "import random as rd                                         #library that contains a function randint() to provide a random integer\n",
    "\n",
    "random_integer = rd.randint(1, 100)\n",
    "print(\"Guess a number between 1 and 100!\\n\")\n",
    "\n",
    "while(1):\n",
    "    user_input = int(input(\"\\nEnter your guess: \"))\n",
    "\n",
    "    if(user_input == random_integer):\n",
    "        break\n",
    "    elif(user_input < random_integer):\n",
    "        print(f\"You guessed {user_input} Guess Higher!\")\n",
    "    else:\n",
    "        print(f\"You guessed {user_input} Guess Lower!\")\n",
    "        \n",
    "print(f\"Congratulations!!! You guessed correct. The number was {user_input}\")"
   ]
  }
 ],
 "metadata": {
  "kernelspec": {
   "display_name": "Python 3 (ipykernel)",
   "language": "python",
   "name": "python3"
  },
  "language_info": {
   "codemirror_mode": {
    "name": "ipython",
    "version": 3
   },
   "file_extension": ".py",
   "mimetype": "text/x-python",
   "name": "python",
   "nbconvert_exporter": "python",
   "pygments_lexer": "ipython3",
   "version": "3.11.0"
  }
 },
 "nbformat": 4,
 "nbformat_minor": 5
}
